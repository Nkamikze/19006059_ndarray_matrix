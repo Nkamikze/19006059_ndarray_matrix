{
 "cells": [
  {
   "cell_type": "markdown",
   "metadata": {},
   "source": [
    "## DIFERENCIA ENTRE NP.MATRIX Y NP.NDARRAY\n",
    "\n",
    "Una de las grandes diferencias entre ambos componentes de numpy es que las matrices son estrictamente objetos de dos dimensiones, mientras que los arreglos son N-dimensionales, por lo que una matriz se dice que hereda todos su comportamiento de los ndarrays.\n",
    "\n"
   ]
  },
  {
   "cell_type": "markdown",
   "metadata": {},
   "source": [
    "### NDARRAYS\n",
    "El ndarray o arreglo multidimensional (ndimensional) posee los siguientes atributos.\n",
    "\n",
    ".ndim donde devuelve el numero de dimensiones\n",
    ".shape la dimension del array\n",
    ".size el numero total de elementos\n",
    "\n",
    "donde una matriz posee las mismas propiedades. "
   ]
  },
  {
   "cell_type": "code",
   "execution_count": 11,
   "metadata": {},
   "outputs": [
    {
     "data": {
      "text/plain": [
       "(10,)"
      ]
     },
     "execution_count": 11,
     "metadata": {},
     "output_type": "execute_result"
    }
   ],
   "source": [
    "miArray = np.arange(10)\n",
    "miArray\n",
    "miArray.ndim\n",
    "miArray.shape"
   ]
  },
  {
   "cell_type": "markdown",
   "metadata": {},
   "source": [
    "### MATRIZ\n",
    "Una matriz posee a misma logica de una array, Es un subtipo especial de arreglo bidimensional, a excepción de la multiplicación de matrices ya que reemplaza la multiplicación elemento a elemento. Las matrices se invocan mediante la funcion matrix."
   ]
  },
  {
   "cell_type": "code",
   "execution_count": 12,
   "metadata": {},
   "outputs": [
    {
     "data": {
      "text/plain": [
       "matrix([[ 1,  3, -5],\n",
       "        [ 3,  4,  2],\n",
       "        [-5,  2,  0]])"
      ]
     },
     "execution_count": 12,
     "metadata": {},
     "output_type": "execute_result"
    }
   ],
   "source": [
    "import numpy as np\n",
    "\n",
    "#declaracion de matrices\n",
    "a = np.matrix([[1,3,-5],[3,4,2],[-5,2,0]])\n",
    "a\n",
    "\n"
   ]
  },
  {
   "cell_type": "markdown",
   "metadata": {},
   "source": [
    "Por lo que si ambas estructuras pueden trabajar lo mismo que es lo recomendable? La matriz esta especializada en trabajar las dos dimensiones por lo que hace mas viable su utilización.\n"
   ]
  }
 ],
 "metadata": {
  "kernelspec": {
   "display_name": "Python 3",
   "language": "python",
   "name": "python3"
  },
  "language_info": {
   "codemirror_mode": {
    "name": "ipython",
    "version": 3
   },
   "file_extension": ".py",
   "mimetype": "text/x-python",
   "name": "python",
   "nbconvert_exporter": "python",
   "pygments_lexer": "ipython3",
   "version": "3.7.1"
  }
 },
 "nbformat": 4,
 "nbformat_minor": 2
}
